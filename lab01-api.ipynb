{
 "cells": [
  {
   "cell_type": "markdown",
   "metadata": {},
   "source": [
    "# Lab 1 - API de Acesso a Dados"
   ]
  },
  {
   "cell_type": "markdown",
   "metadata": {},
   "source": [
    "# Tarefa 1\n",
    "\n",
    "Das fontes de dados disponíveis, tente encontrar fontes com formatos diferentes e importá-las via Python. Busque pelo menos dois formatos."
   ]
  },
  {
   "cell_type": "code",
   "execution_count": 1,
   "metadata": {},
   "outputs": [
    {
     "name": "stdout",
     "output_type": "stream",
     "text": [
      "{'All': {'confirmed': 20528099, 'recovered': 0, 'deaths': 573511, 'country': 'Brazil', 'population': 209288278, 'sq_km_area': 8547403, 'life_expectancy': '62.9', 'elevation_in_meters': 320, 'continent': 'South America', 'abbreviation': 'BR', 'location': 'South America', 'iso': 76, 'capital_city': 'Brasília'}, 'Acre': {'lat': '-9.0238', 'long': '-70.812', 'confirmed': 87671, 'recovered': 0, 'deaths': 1809, 'updated': '2021/08/20 23:21:29+00'}, 'Alagoas': {'lat': '-9.5713', 'long': '-36.782', 'confirmed': 233743, 'recovered': 0, 'deaths': 5998, 'updated': '2021/08/20 23:21:29+00'}, 'Amapa': {'lat': '0.902', 'long': '-52.003', 'confirmed': 122237, 'recovered': 0, 'deaths': 1944, 'updated': '2021/08/20 23:21:29+00'}, 'Amazonas': {'lat': '-3.4168', 'long': '-65.8561', 'confirmed': 422695, 'recovered': 0, 'deaths': 13649, 'updated': '2021/08/20 23:21:29+00'}, 'Bahia': {'lat': '-12.5797', 'long': '-41.7007', 'confirmed': 1213318, 'recovered': 0, 'deaths': 26240, 'updated': '2021/08/20 23:21:29+00'}, 'Ceara': {'lat': '-5.4984', 'long': '-39.3206', 'confirmed': 928016, 'recovered': 0, 'deaths': 23921, 'updated': '2021/08/20 23:21:29+00'}, 'Distrito Federal': {'lat': '-15.7998', 'long': '-47.8645', 'confirmed': 462687, 'recovered': 0, 'deaths': 9887, 'updated': '2021/08/20 23:21:29+00'}, 'Espirito Santo': {'lat': '-19.1834', 'long': '-40.3089', 'confirmed': 555667, 'recovered': 0, 'deaths': 12127, 'updated': '2021/08/20 23:21:29+00'}, 'Goias': {'lat': '-15.827', 'long': '-49.8362', 'confirmed': 794639, 'recovered': 0, 'deaths': 22025, 'updated': '2021/08/20 23:21:29+00'}, 'Maranhao': {'lat': '-4.9609', 'long': '-45.2744', 'confirmed': 345629, 'recovered': 0, 'deaths': 9910, 'updated': '2021/08/20 23:21:29+00'}, 'Mato Grosso': {'lat': '-12.6819', 'long': '-56.9211', 'confirmed': 508077, 'recovered': 0, 'deaths': 13058, 'updated': '2021/08/20 23:21:29+00'}, 'Mato Grosso do Sul': {'lat': '-20.7722', 'long': '-54.7852', 'confirmed': 365088, 'recovered': 0, 'deaths': 9237, 'updated': '2021/08/20 23:21:29+00'}, 'Minas Gerais': {'lat': '-18.5122', 'long': '-44.555', 'confirmed': 2038307, 'recovered': 0, 'deaths': 52326, 'updated': '2021/08/20 23:21:29+00'}, 'Para': {'lat': '-1.9981', 'long': '-54.9306', 'confirmed': 580041, 'recovered': 0, 'deaths': 16340, 'updated': '2021/08/20 23:21:29+00'}, 'Paraiba': {'lat': '-7.24', 'long': '-36.782', 'confirmed': 429861, 'recovered': 0, 'deaths': 9130, 'updated': '2021/08/20 23:21:29+00'}, 'Parana': {'lat': '-25.2521', 'long': '-52.0215', 'confirmed': 1436627, 'recovered': 0, 'deaths': 36849, 'updated': '2021/08/20 23:21:29+00'}, 'Pernambuco': {'lat': '-8.8137', 'long': '-36.9541', 'confirmed': 603057, 'recovered': 0, 'deaths': 19262, 'updated': '2021/08/20 23:21:29+00'}, 'Piaui': {'lat': '-7.7183', 'long': '-42.7289', 'confirmed': 314421, 'recovered': 0, 'deaths': 6918, 'updated': '2021/08/20 23:21:29+00'}, 'Rio Grande do Norte': {'lat': '-5.4026', 'long': '-36.9541', 'confirmed': 363436, 'recovered': 0, 'deaths': 7238, 'updated': '2021/08/20 23:21:29+00'}, 'Rio Grande do Sul': {'lat': '-30.0346', 'long': '-51.2177', 'confirmed': 1398352, 'recovered': 0, 'deaths': 33917, 'updated': '2021/08/20 23:21:29+00'}, 'Rio de Janeiro': {'lat': '-22.9068', 'long': '-43.1729', 'confirmed': 1102305, 'recovered': 0, 'deaths': 61254, 'updated': '2021/08/20 23:21:29+00'}, 'Rondonia': {'lat': '-11.5057', 'long': '-63.5806', 'confirmed': 261794, 'recovered': 0, 'deaths': 6454, 'updated': '2021/08/20 23:21:29+00'}, 'Roraima': {'lat': '-2.7376', 'long': '-62.0751', 'confirmed': 122638, 'recovered': 0, 'deaths': 1925, 'updated': '2021/08/20 23:21:29+00'}, 'Santa Catarina': {'lat': '-27.2423', 'long': '-50.2189', 'confirmed': 1142067, 'recovered': 0, 'deaths': 18477, 'updated': '2021/08/20 23:21:29+00'}, 'Sao Paulo': {'lat': '-23.5505', 'long': '-46.6333', 'confirmed': 4202577, 'recovered': 0, 'deaths': 144013, 'updated': '2021/08/20 23:21:29+00'}, 'Sergipe': {'lat': '-10.5741', 'long': '-37.3857', 'confirmed': 277045, 'recovered': 0, 'deaths': 5961, 'updated': '2021/08/20 23:21:29+00'}, 'Tocantins': {'lat': '-10.1753', 'long': '-48.2982', 'confirmed': 216104, 'recovered': 0, 'deaths': 3642, 'updated': '2021/08/20 23:21:29+00'}}\n"
     ]
    }
   ],
   "source": [
    "import requests\n",
    "response = requests.get(\"https://covid-api.mmediagroup.fr/v1/cases?country=Brazil\")\n",
    "print(response.json())"
   ]
  },
  {
   "cell_type": "code",
   "execution_count": 1,
   "metadata": {},
   "outputs": [
    {
     "name": "stdout",
     "output_type": "stream",
     "text": [
      "[{'country': 'Afghanistan', 'timeline': {'8/20/21': 1809517}}, {'country': 'Albania', 'timeline': {'8/20/21': 1340339}}, {'country': 'Algeria', 'timeline': {'8/20/21': 4146091}}, {'country': 'Andorra', 'timeline': {'8/20/21': 91660}}, {'country': 'Angola', 'timeline': {'8/20/21': 1727488}}, {'country': 'Anguilla', 'timeline': {'8/20/21': 18457}}, {'country': 'Antigua and Barbuda', 'timeline': {'8/20/21': 71434}}, {'country': 'Argentina', 'timeline': {'8/20/21': 37689167}}, {'country': 'Armenia', 'timeline': {'8/20/21': 220236}}, {'country': 'Aruba', 'timeline': {'8/20/21': 143396}}, {'country': 'Australia', 'timeline': {'8/20/21': 16201270}}, {'country': 'Austria', 'timeline': {'8/20/21': 10275681}}, {'country': 'Azerbaijan', 'timeline': {'8/20/21': 5991016}}, {'country': 'Bahamas', 'timeline': {'8/20/21': 110443}}, {'country': 'Bahrain', 'timeline': {'8/20/21': 2438316}}, {'country': 'Bangladesh', 'timeline': {'8/20/21': 22166720}}, {'country': 'Barbados', 'timeline': {'8/20/21': 188324}}, {'country': 'Belarus', 'timeline': {'8/20/21': 2684863}}, {'country': 'Belgium', 'timeline': {'8/20/21': 15733985}}, {'country': 'Belize', 'timeline': {'8/20/21': 212380}}, {'country': 'Benin', 'timeline': {'8/20/21': 72999}}, {'country': 'Bermuda', 'timeline': {'8/20/21': 83297}}, {'country': 'Bhutan', 'timeline': {'8/20/21': 1035510}}, {'country': 'Bolivia', 'timeline': {'8/20/21': 5215804}}, {'country': 'Caribbean Netherlands', 'timeline': {'8/20/21': 7391}}, {'country': 'Bosnia', 'timeline': {'8/20/21': 865306}}, {'country': 'Botswana', 'timeline': {'8/20/21': 408023}}, {'country': 'Brazil', 'timeline': {'8/20/21': 173650317}}, {'country': 'British Virgin Islands', 'timeline': {'8/20/21': 29172}}, {'country': 'Brunei', 'timeline': {'8/20/21': 230324}}, {'country': 'Bulgaria', 'timeline': {'8/20/21': 2201084}}, {'country': 'Burkina Faso', 'timeline': {'8/20/21': 71510}}, {'country': 'Cambodia', 'timeline': {'8/20/21': 16514969}}, {'country': 'Cameroon', 'timeline': {'8/20/21': 395212}}, {'country': 'Canada', 'timeline': {'8/20/21': 52074770}}, {'country': 'Cabo Verde', 'timeline': {'8/20/21': 236976}}, {'country': 'Cayman Islands', 'timeline': {'8/20/21': 99635}}, {'country': 'Central African Republic', 'timeline': {'8/20/21': 95862}}, {'country': 'Chad', 'timeline': {'8/20/21': 45390}}, {'country': 'Chile', 'timeline': {'8/20/21': 27626715}}, {'country': 'China', 'timeline': {'8/20/21': 1912419000}}, {'country': 'Colombia', 'timeline': {'8/20/21': 32463196}}, {'country': 'Comoros', 'timeline': {'8/20/21': 216123}}, {'country': 'Congo', 'timeline': {'8/20/21': 273790}}, {'country': 'Cook Islands', 'timeline': {'8/20/21': 20509}}, {'country': 'Costa Rica', 'timeline': {'8/20/21': 3848155}}, {'country': \"Côte d'Ivoire\", 'timeline': {'8/20/21': 1246309}}, {'country': 'Croatia', 'timeline': {'8/20/21': 3200638}}, {'country': 'Cuba', 'timeline': {'8/20/21': 12287005}}, {'country': 'Curaçao', 'timeline': {'8/20/21': 179876}}, {'country': 'Cyprus', 'timeline': {'8/20/21': 1060680}}, {'country': 'Czechia', 'timeline': {'8/20/21': 11136725}}, {'country': 'DRC', 'timeline': {'8/20/21': 86244}}, {'country': 'Denmark', 'timeline': {'8/20/21': 8248309}}, {'country': 'Djibouti', 'timeline': {'8/20/21': 54229}}, {'country': 'Dominica', 'timeline': {'8/20/21': 41435}}, {'country': 'Dominican Republic', 'timeline': {'8/20/21': 10743683}}, {'country': 'Ecuador', 'timeline': {'8/20/21': 15516237}}, {'country': 'Egypt', 'timeline': {'8/20/21': 6477535}}, {'country': 'El Salvador', 'timeline': {'8/20/21': 5509567}}, {'country': 'Equatorial Guinea', 'timeline': {'8/20/21': 329229}}, {'country': 'Estonia', 'timeline': {'8/20/21': 1230051}}, {'country': 'Swaziland', 'timeline': {'8/20/21': 181290}}, {'country': 'Ethiopia', 'timeline': {'8/20/21': 2326531}}, {'country': 'Faroe Islands', 'timeline': {'8/20/21': 69950}}, {'country': 'Falkland Islands (Malvinas)', 'timeline': {'8/20/21': 4407}}, {'country': 'Fiji', 'timeline': {'8/20/21': 745201}}, {'country': 'Finland', 'timeline': {'8/20/21': 6354388}}, {'country': 'France', 'timeline': {'8/20/21': 82393710}}, {'country': 'French Polynesia', 'timeline': {'8/20/21': 190080}}, {'country': 'Gabon', 'timeline': {'8/20/21': 120627}}, {'country': 'Gambia', 'timeline': {'8/20/21': 316363}}, {'country': 'Georgia', 'timeline': {'8/20/21': 907665}}, {'country': 'Germany', 'timeline': {'8/20/21': 99042466}}, {'country': 'Ghana', 'timeline': {'8/20/21': 1271393}}, {'country': 'Gibraltar', 'timeline': {'8/20/21': 78570}}, {'country': 'Greece', 'timeline': {'8/20/21': 11101460}}, {'country': 'Greenland', 'timeline': {'8/20/21': 69605}}, {'country': 'Grenada', 'timeline': {'8/20/21': 39121}}, {'country': 'Guatemala', 'timeline': {'8/20/21': 3528413}}, {'country': 'Guernsey', 'timeline': {'8/20/21': 97600}}, {'country': 'Guinea', 'timeline': {'8/20/21': 962565}}, {'country': 'Guinea-Bissau', 'timeline': {'8/20/21': 30471}}, {'country': 'Guyana', 'timeline': {'8/20/21': 434965}}, {'country': 'Haiti', 'timeline': {'8/20/21': 20281}}, {'country': 'Honduras', 'timeline': {'8/20/21': 3292889}}, {'country': 'Hong Kong', 'timeline': {'8/20/21': 6881098}}, {'country': 'Hungary', 'timeline': {'8/20/21': 10555046}}, {'country': 'Iceland', 'timeline': {'8/20/21': 477205}}, {'country': 'India', 'timeline': {'8/20/21': 566595708}}, {'country': 'Indonesia', 'timeline': {'8/20/21': 86414456}}, {'country': 'Iran', 'timeline': {'8/20/21': 19894523}}, {'country': 'Iraq', 'timeline': {'8/20/21': 2102550}}, {'country': 'Ireland', 'timeline': {'8/20/21': 6499009}}, {'country': 'Isle of Man', 'timeline': {'8/20/21': 125632}}, {'country': 'Israel', 'timeline': {'8/20/21': 12584839}}, {'country': 'Italy', 'timeline': {'8/20/21': 74804729}}, {'country': 'Jamaica', 'timeline': {'8/20/21': 391076}}, {'country': 'Japan', 'timeline': {'8/20/21': 115739998}}, {'country': 'Channel Islands', 'timeline': {'8/20/21': 146439}}, {'country': 'Jordan', 'timeline': {'8/20/21': 5999613}}, {'country': 'Kazakhstan', 'timeline': {'8/20/21': 11096951}}, {'country': 'Kenya', 'timeline': {'8/20/21': 2221704}}, {'country': 'Kiribati', 'timeline': {'8/20/21': 13970}}, {'country': 'Kuwait', 'timeline': {'8/20/21': 2375455}}, {'country': 'Kyrgyzstan', 'timeline': {'8/20/21': 963766}}, {'country': \"Lao People's Democratic Republic\", 'timeline': {'8/20/21': 3371785}}, {'country': 'Latvia', 'timeline': {'8/20/21': 1447307}}, {'country': 'Lebanon', 'timeline': {'8/20/21': 2275129}}, {'country': 'Lesotho', 'timeline': {'8/20/21': 72948}}, {'country': 'Liberia', 'timeline': {'8/20/21': 101071}}, {'country': 'Libyan Arab Jamahiriya', 'timeline': {'8/20/21': 889957}}, {'country': 'Liechtenstein', 'timeline': {'8/20/21': 41741}}, {'country': 'Lithuania', 'timeline': {'8/20/21': 3017456}}, {'country': 'Luxembourg', 'timeline': {'8/20/21': 749999}}, {'country': 'Macao', 'timeline': {'8/20/21': 568863}}, {'country': 'Madagascar', 'timeline': {'8/20/21': 197001}}, {'country': 'Malawi', 'timeline': {'8/20/21': 768280}}, {'country': 'Malaysia', 'timeline': {'8/20/21': 29886548}}, {'country': 'Maldives', 'timeline': {'8/20/21': 653886}}, {'country': 'Mali', 'timeline': {'8/20/21': 259719}}, {'country': 'Malta', 'timeline': {'8/20/21': 788292}}, {'country': 'Mauritania', 'timeline': {'8/20/21': 253336}}, {'country': 'Mauritius', 'timeline': {'8/20/21': 1297090}}, {'country': 'Mexico', 'timeline': {'8/20/21': 79399398}}, {'country': 'Moldova', 'timeline': {'8/20/21': 1200189}}, {'country': 'Monaco', 'timeline': {'8/20/21': 44060}}, {'country': 'Mongolia', 'timeline': {'8/20/21': 4261009}}, {'country': 'Montenegro', 'timeline': {'8/20/21': 367434}}, {'country': 'Montserrat', 'timeline': {'8/20/21': 2828}}, {'country': 'Morocco', 'timeline': {'8/20/21': 29856013}}, {'country': 'Mozambique', 'timeline': {'8/20/21': 1487560}}, {'country': 'Myanmar', 'timeline': {'8/20/21': 3500000}}, {'country': 'Namibia', 'timeline': {'8/20/21': 268556}}, {'country': 'Nauru', 'timeline': {'8/20/21': 14784}}, {'country': 'Nepal', 'timeline': {'8/20/21': 8526673}}, {'country': 'Netherlands', 'timeline': {'8/20/21': 21731346}}, {'country': 'New Caledonia', 'timeline': {'8/20/21': 139022}}, {'country': 'New Zealand', 'timeline': {'8/20/21': 2610013}}, {'country': 'Nicaragua', 'timeline': {'8/20/21': 580127}}, {'country': 'Niger', 'timeline': {'8/20/21': 485954}}, {'country': 'Nigeria', 'timeline': {'8/20/21': 3967013}}, {'country': 'Niue', 'timeline': {'8/20/21': 2406}}, {'country': 'Macedonia', 'timeline': {'8/20/21': 1115988}}, {'country': 'Norway', 'timeline': {'8/20/21': 6187398}}, {'country': 'Oman', 'timeline': {'8/20/21': 2951658}}, {'country': 'Pakistan', 'timeline': {'8/20/21': 44736977}}, {'country': 'Palestine', 'timeline': {'8/20/21': 1078213}}, {'country': 'Panama', 'timeline': {'8/20/21': 3583003}}, {'country': 'Papua New Guinea', 'timeline': {'8/20/21': 113052}}, {'country': 'Paraguay', 'timeline': {'8/20/21': 3278382}}, {'country': 'Peru', 'timeline': {'8/20/21': 16518355}}, {'country': 'Philippines', 'timeline': {'8/20/21': 29127240}}, {'country': 'Pitcairn', 'timeline': {'8/20/21': 83}}, {'country': 'Poland', 'timeline': {'8/20/21': 35690920}}, {'country': 'Portugal', 'timeline': {'8/20/21': 13870686}}, {'country': 'Qatar', 'timeline': {'8/20/21': 4202478}}, {'country': 'Romania', 'timeline': {'8/20/21': 9627879}}, {'country': 'Russia', 'timeline': {'8/20/21': 75043301}}, {'country': 'Rwanda', 'timeline': {'8/20/21': 1344627}}, {'country': 'Saint Helena', 'timeline': {'8/20/21': 7892}}, {'country': 'Saint Kitts and Nevis', 'timeline': {'8/20/21': 44124}}, {'country': 'Saint Lucia', 'timeline': {'8/20/21': 61015}}, {'country': 'Saint Vincent and the Grenadines', 'timeline': {'8/20/21': 25833}}, {'country': 'Samoa', 'timeline': {'8/20/21': 111250}}, {'country': 'San Marino', 'timeline': {'8/20/21': 46073}}, {'country': 'Sao Tome and Principe', 'timeline': {'8/20/21': 43987}}, {'country': 'Saudi Arabia', 'timeline': {'8/20/21': 33271819}}, {'country': 'Senegal', 'timeline': {'8/20/21': 1451106}}, {'country': 'Serbia', 'timeline': {'8/20/21': 5656592}}, {'country': 'Seychelles', 'timeline': {'8/20/21': 143490}}, {'country': 'Sierra Leone', 'timeline': {'8/20/21': 225380}}, {'country': 'Singapore', 'timeline': {'8/20/21': 8547113}}, {'country': 'Sint Maarten', 'timeline': {'8/20/21': 47084}}, {'country': 'Slovakia', 'timeline': {'8/20/21': 4455343}}, {'country': 'Slovenia', 'timeline': {'8/20/21': 1835638}}, {'country': 'Solomon Islands', 'timeline': {'8/20/21': 63320}}, {'country': 'Somalia', 'timeline': {'8/20/21': 279869}}, {'country': 'South Africa', 'timeline': {'8/20/21': 10167749}}, {'country': 'S. Korea', 'timeline': {'8/20/21': 34788642}}, {'country': 'South Sudan', 'timeline': {'8/20/21': 56989}}, {'country': 'Spain', 'timeline': {'8/20/21': 62665513}}, {'country': 'Sri Lanka', 'timeline': {'8/20/21': 16920027}}, {'country': 'Sudan', 'timeline': {'8/20/21': 823881}}, {'country': 'Suriname', 'timeline': {'8/20/21': 288230}}, {'country': 'Sweden', 'timeline': {'8/20/21': 11666296}}, {'country': 'Switzerland', 'timeline': {'8/20/21': 9329591}}, {'country': 'Syrian Arab Republic', 'timeline': {'8/20/21': 355000}}, {'country': 'Taiwan', 'timeline': {'8/20/21': 10014566}}, {'country': 'Tajikistan', 'timeline': {'8/20/21': 1967958}}, {'country': 'Tanzania', 'timeline': {'8/20/21': 218621}}, {'country': 'Thailand', 'timeline': {'8/20/21': 25167060}}, {'country': 'Timor-Leste', 'timeline': {'8/20/21': 491569}}, {'country': 'Togo', 'timeline': {'8/20/21': 474776}}, {'country': 'Tokelau', 'timeline': {'8/20/21': 968}}, {'country': 'Tonga', 'timeline': {'8/20/21': 47553}}, {'country': 'Trinidad and Tobago', 'timeline': {'8/20/21': 813470}}, {'country': 'Tunisia', 'timeline': {'8/20/21': 4782139}}, {'country': 'Turkey', 'timeline': {'8/20/21': 87195574}}, {'country': 'Turkmenistan', 'timeline': {'8/20/21': 41993}}, {'country': 'Turks and Caicos Islands', 'timeline': {'8/20/21': 49107}}, {'country': 'Tuvalu', 'timeline': {'8/20/21': 4772}}, {'country': 'Uganda', 'timeline': {'8/20/21': 1235052}}, {'country': 'Ukraine', 'timeline': {'8/20/21': 7952028}}, {'country': 'UAE', 'timeline': {'8/20/21': 17566410}}, {'country': 'UK', 'timeline': {'8/20/21': 88617595}}, {'country': 'USA', 'timeline': {'8/20/21': 359623380}}, {'country': 'Uruguay', 'timeline': {'8/20/21': 5228992}}, {'country': 'Uzbekistan', 'timeline': {'8/20/21': 12103334}}, {'country': 'Vanuatu', 'timeline': {'8/20/21': 31042}}, {'country': 'Venezuela', 'timeline': {'8/20/21': 4678086}}, {'country': 'Vietnam', 'timeline': {'8/20/21': 15922537}}, {'country': 'Wallis and Futuna', 'timeline': {'8/20/21': 9534}}, {'country': 'Yemen', 'timeline': {'8/20/21': 311483}}, {'country': 'Zambia', 'timeline': {'8/20/21': 536479}}, {'country': 'Zimbabwe', 'timeline': {'8/20/21': 3620937}}]\n"
     ]
    }
   ],
   "source": [
    "import requests\n",
    "response = requests.get(\"https://disease.sh/v3/covid-19/vaccine/coverage/countries?lastdays=1\")\n",
    "print(response.json())"
   ]
  },
  {
   "cell_type": "markdown",
   "metadata": {},
   "source": [
    "# Tarefa 2\n",
    "\n",
    "## Engenharia reversa\n",
    "\n",
    "Monte um diagramas que representem modelos dos dados que você terá acesso e como pretende associá-los. Coloque abaixo uma imagem do diagrama."
   ]
  },
  {
   "cell_type": "code",
   "execution_count": null,
   "metadata": {},
   "outputs": [],
   "source": []
  }
 ],
 "metadata": {
  "kernelspec": {
   "display_name": "Python 3",
   "language": "python",
   "name": "python3"
  },
  "language_info": {
   "codemirror_mode": {
    "name": "ipython",
    "version": 3
   },
   "file_extension": ".py",
   "mimetype": "text/x-python",
   "name": "python",
   "nbconvert_exporter": "python",
   "pygments_lexer": "ipython3",
   "version": "3.7.10"
  },
  "toc": {
   "base_numbering": 1,
   "nav_menu": {},
   "number_sections": false,
   "sideBar": false,
   "skip_h1_title": false,
   "title_cell": "Table of Contents",
   "title_sidebar": "Contents",
   "toc_cell": false,
   "toc_position": {},
   "toc_section_display": false,
   "toc_window_display": false
  }
 },
 "nbformat": 4,
 "nbformat_minor": 4
}
